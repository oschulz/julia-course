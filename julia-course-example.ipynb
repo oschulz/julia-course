{
 "cells": [
  {
   "cell_type": "markdown",
   "metadata": {},
   "source": [
    "To configure your Julia Jupyter kernel to use multiple threads, run\n",
    "\n",
    "```julia\n",
    "julia> using IJulia\n",
    "julia> IJulia.installkernel(\"Julia\", \"--project=@.\", env=Dict(\"JULIA_NUM_THREADS\"=>\"4\"))\n",
    "```\n",
    "\n",
    "on the Julia console. With Julia >= v1.5, you can also use the `--threads` command line option:\n",
    "\n",
    "```julia\n",
    "julia> using IJulia\n",
    "julia> IJulia.installkernel(\"Julia\", \"--project=@.\", \"--threads=auto\")\n",
    "```"
   ]
  },
  {
   "cell_type": "code",
   "execution_count": null,
   "metadata": {
    "slideshow": {
     "slide_type": "skip"
    }
   },
   "outputs": [],
   "source": [
    "# Check multithreading config:\n",
    "Base.Threads.nthreads()"
   ]
  },
  {
   "cell_type": "code",
   "execution_count": null,
   "metadata": {
    "slideshow": {
     "slide_type": "skip"
    }
   },
   "outputs": [],
   "source": [
    "# # Instantiate package environment for this notebook\n",
    "using Pkg; pkg\"instantiate\""
   ]
  },
  {
   "cell_type": "code",
   "execution_count": null,
   "metadata": {
    "scrolled": true,
    "slideshow": {
     "slide_type": "skip"
    }
   },
   "outputs": [],
   "source": [
    "# Check active package versions:\n",
    "# using Pkg; pkg\"status\""
   ]
  },
  {
   "cell_type": "markdown",
   "metadata": {
    "collapsed": true,
    "nbpresent": {
     "id": "7b7b849a-81ae-4985-92ec-78b66da75f5f"
    },
    "slideshow": {
     "slide_type": "slide"
    }
   },
   "source": [
    "<h1 style=\"text-align: center;\">\n",
    "    <span style=\"display: block; text-align: center;\">\n",
    "        Introduction to\n",
    "    </span>\n",
    "    <span style=\"display: block; text-align: center;\">\n",
    "        <img alt=\"Julia\" src=\"images/logos/julia-logo.svg\" style=\"height: 2em; display: inline-block; margin: 1em;\"/>\n",
    "    </span>\n",
    "    <span style=\"display: block; text-align: center;\">\n",
    "        Example\n",
    "    </span>\n",
    "</h1>\n",
    "\n",
    "<div style=\"text-align: center;\">\n",
    "    <p style=\"text-align: center; display: inline-block; vertical-align: middle;\">\n",
    "        Oliver Schulz<br>\n",
    "        <small>\n",
    "            Max Planck Institute for Physics <br/>\n",
    "            <a href=\"mailto:oschulz@mpp.mpg.de\" target=\"_blank\">oschulz@mpp.mpg.de</a>\n",
    "        </small>\n",
    "    </p>\n",
    "    <p style=\"text-align: center; display: inline-block; vertical-align: middle;\">\n",
    "        <img src=\"images/logos/mpg-logo.svg\" style=\"height: 5em; display: inline-block; vertical-align: middle; margin: 1em;\"/>\n",
    "        <img src=\"images/logos/mpp-logo.svg\" style=\"height: 5em; display: inline-block; vertical-align: middle; margin: 1em;\"/>\n",
    "    </p>\n",
    "</div>\n",
    "\n",
    "<p style=\"text-align: center;\">\n",
    "    MPI for Physics, March 2021\n",
    "</p>"
   ]
  },
  {
   "cell_type": "markdown",
   "metadata": {},
   "source": [
    "## Example: Trajectory of a ball"
   ]
  },
  {
   "cell_type": "markdown",
   "metadata": {},
   "source": [
    "Let's analyze the slow-motion video of a bouncing ball:"
   ]
  },
  {
   "cell_type": "code",
   "execution_count": null,
   "metadata": {},
   "outputs": [],
   "source": [
    "videofile = \"ball_throw.mp4\""
   ]
  },
  {
   "cell_type": "markdown",
   "metadata": {},
   "source": [
    "We need to load a few packages to deal with [videos](https://juliaio.github.io/VideoIO.jl), [images](https://github.com/JuliaImages/Images.jl), [colors](https://github.com/JuliaGraphics/Colors.jl) and [units](https://github.com/PainterQubits/Unitful.jl):"
   ]
  },
  {
   "cell_type": "code",
   "execution_count": null,
   "metadata": {},
   "outputs": [],
   "source": [
    "using VideoIO, Images, Colors, Unitful"
   ]
  },
  {
   "cell_type": "markdown",
   "metadata": {},
   "source": [
    "Let's get the duration of the video"
   ]
  },
  {
   "cell_type": "code",
   "execution_count": null,
   "metadata": {},
   "outputs": [],
   "source": [
    "video_duration = VideoIO.get_duration(videofile) * u\"s\""
   ]
  },
  {
   "cell_type": "markdown",
   "metadata": {},
   "source": [
    "and open a video input stream:"
   ]
  },
  {
   "cell_type": "code",
   "execution_count": null,
   "metadata": {},
   "outputs": [],
   "source": [
    "video_input = VideoIO.openvideo(videofile)"
   ]
  },
  {
   "cell_type": "markdown",
   "metadata": {},
   "source": [
    "Get the video frame rate - `video_input.framerate` yields framerate * 1000 for some reason:"
   ]
  },
  {
   "cell_type": "code",
   "execution_count": null,
   "metadata": {},
   "outputs": [],
   "source": [
    "fps = video_input.framerate/1000 * u\"s^-1\""
   ]
  },
  {
   "cell_type": "markdown",
   "metadata": {},
   "source": [
    "Reading the whole video would use a lot of RAM. Let's write a function to read single frames at a given point in time:"
   ]
  },
  {
   "cell_type": "code",
   "execution_count": null,
   "metadata": {},
   "outputs": [],
   "source": [
    "typeof(video_input)"
   ]
  },
  {
   "cell_type": "code",
   "execution_count": null,
   "metadata": {},
   "outputs": [],
   "source": [
    "function read_frame(input::VideoIO.VideoReader, t::Number)\n",
    "    t_in_s = float(ustrip(uconvert(u\"s\", t)))\n",
    "    seek(input, t_in_s)\n",
    "    read(input)\n",
    "end"
   ]
  },
  {
   "cell_type": "markdown",
   "metadata": {},
   "source": [
    "Ok, now we can read a frame. We'll subsample it before display, to keep it small:"
   ]
  },
  {
   "cell_type": "code",
   "execution_count": null,
   "metadata": {},
   "outputs": [],
   "source": [
    "frameimg = read_frame(video_input, 3u\"s\")\n",
    "frameimg[1:5:end,1:5:end]"
   ]
  },
  {
   "cell_type": "markdown",
   "metadata": {},
   "source": [
    "Images in in Julia (more specifically, in [Images.jl](https://github.com/JuliaImages/Images.jl)) are simply arrays of color values:"
   ]
  },
  {
   "cell_type": "code",
   "execution_count": null,
   "metadata": {},
   "outputs": [],
   "source": [
    "typeof(frameimg)"
   ]
  },
  {
   "cell_type": "markdown",
   "metadata": {},
   "source": [
    "But oops, the video was recorded in portrait mode, so it appears rotated. Let's transpose the image array - this will also result in a mirrored image, but that doesn't matter here:"
   ]
  },
  {
   "cell_type": "code",
   "execution_count": null,
   "metadata": {},
   "outputs": [],
   "source": [
    "frameimg[1:5:end,1:5:end]'"
   ]
  },
  {
   "cell_type": "markdown",
   "metadata": {},
   "source": [
    "Nice, let's get a frame every second:"
   ]
  },
  {
   "cell_type": "code",
   "execution_count": null,
   "metadata": {},
   "outputs": [],
   "source": [
    "broadcast(\n",
    "    (input, t) -> read_frame(input, t)[1:5:end,1:5:end]',\n",
    "    Ref(video_input),\n",
    "    0u\"s\":1u\"s\":video_duration\n",
    ")"
   ]
  },
  {
   "cell_type": "markdown",
   "metadata": {},
   "source": [
    "To develop a method that detects the ball, we'll need a frame with and another frame without the ball.\n",
    "\n",
    "We'll also need image coordinates, so we'll use [Plots.jl](https://github.com/JuliaPlots/Plots.jl) to plot the frames with a coordinate system. Let's load Plots and select the [GR.jl](https://github.com/jheinen/GR.jl) backend, which create plots via the [GR Framework](https://gr-framework.org/):"
   ]
  },
  {
   "cell_type": "code",
   "execution_count": null,
   "metadata": {},
   "outputs": [],
   "source": [
    "using Plots; gr(format = :png)"
   ]
  },
  {
   "cell_type": "markdown",
   "metadata": {},
   "source": [
    "We won't flip/transpose the images this time, so that we don't confuse the images axes later on:"
   ]
  },
  {
   "cell_type": "code",
   "execution_count": null,
   "metadata": {},
   "outputs": [],
   "source": [
    "background_frame, ball_frame = read_frame.(Ref(video_input), [0, 3]u\"s\")\n",
    "\n",
    "plot(\n",
    "    plot(background_frame, xlabel = \"j\", ylabel = \"i\"),\n",
    "    plot(ball_frame, xlabel = \"j\", ylabel = \"i\"),\n",
    ")"
   ]
  },
  {
   "cell_type": "markdown",
   "metadata": {},
   "source": [
    "Note that Plots.jl plots images with matrix-like row/column direction.\n",
    "\n",
    "Each frame image/array is a 1080 x 1920 matrix, with indices 1:1080 for the rows and 1:1920 for the columns:"
   ]
  },
  {
   "cell_type": "code",
   "execution_count": null,
   "metadata": {},
   "outputs": [],
   "source": [
    "size(background_frame)"
   ]
  },
  {
   "cell_type": "code",
   "execution_count": null,
   "metadata": {},
   "outputs": [],
   "source": [
    "axes(background_frame)"
   ]
  },
  {
   "cell_type": "markdown",
   "metadata": {},
   "source": [
    "To find the ball in the video, we need it's color. Let's zoom into `ball_frame`:"
   ]
  },
  {
   "cell_type": "code",
   "execution_count": null,
   "metadata": {},
   "outputs": [],
   "source": [
    "plot(ball_frame[180:260,90:170], ratio = 1)"
   ]
  },
  {
   "cell_type": "markdown",
   "metadata": {},
   "source": [
    "And zoom in some more, until only ball color is left:"
   ]
  },
  {
   "cell_type": "code",
   "execution_count": null,
   "metadata": {},
   "outputs": [],
   "source": [
    "plot(ball_frame[202:238,112:148], ratio = 1)"
   ]
  },
  {
   "cell_type": "markdown",
   "metadata": {},
   "source": [
    "We want the average color in that image region. To calculate means, we need the [Statistics](https://docs.julialang.org/en/v1/stdlib/Statistics) package, which is part of the Julia standard library:"
   ]
  },
  {
   "cell_type": "code",
   "execution_count": null,
   "metadata": {},
   "outputs": [],
   "source": [
    "using Statistics"
   ]
  },
  {
   "cell_type": "markdown",
   "metadata": {},
   "source": [
    "Since images are arrays, we can simply use the function `mean` to get the average color. We convert the color to the HSV color space, since it should be easiest to locate the ball based on color:"
   ]
  },
  {
   "cell_type": "code",
   "execution_count": null,
   "metadata": {},
   "outputs": [],
   "source": [
    "ball_color = HSV{Float32}(mean(ball_frame[205:235,115:145]))"
   ]
  },
  {
   "cell_type": "markdown",
   "metadata": {},
   "source": [
    "We define the distance between two colors based on the difference in hue and saturation:"
   ]
  },
  {
   "cell_type": "code",
   "execution_count": null,
   "metadata": {},
   "outputs": [],
   "source": [
    "function color_dist(a::Color, b::Color)\n",
    "    @fastmath begin\n",
    "        ca = convert(HSV, a)\n",
    "        cb = convert(HSV, b)\n",
    "        sqrt((Float32(ca.h - cb.h)/360)^2 + Float32(ca.s - cb.s)^2)\n",
    "    end\n",
    "end"
   ]
  },
  {
   "cell_type": "markdown",
   "metadata": {},
   "source": [
    "Using `color_dist`, we can define the difference between two frames:"
   ]
  },
  {
   "cell_type": "code",
   "execution_count": null,
   "metadata": {},
   "outputs": [],
   "source": [
    "framediff(f::Function, frame::AbstractArray, ref_frame::AbstractArray, ref_color::Color) =\n",
    "    f.(color_dist.(frame, ball_color) .- color_dist.(ref_frame, ball_color))\n",
    "\n",
    "framediff(frame::AbstractArray, ref_frame::AbstractArray, ref_color::Color) =\n",
    "    framediff(identity, frame, ref_frame, ref_color)"
   ]
  },
  {
   "cell_type": "markdown",
   "metadata": {},
   "source": [
    "Let's see how this performs:"
   ]
  },
  {
   "cell_type": "code",
   "execution_count": null,
   "metadata": {},
   "outputs": [],
   "source": [
    "typeof(similar(background_frame))"
   ]
  },
  {
   "cell_type": "code",
   "execution_count": null,
   "metadata": {},
   "outputs": [],
   "source": [
    "heatmap(framediff(ball_frame, background_frame, ball_color))"
   ]
  },
  {
   "cell_type": "markdown",
   "metadata": {},
   "source": [
    "Not bad - looks like a threshold of -0.4 might be a good choice to separate pixels belonging to the ball from pixels belonging to the background:"
   ]
  },
  {
   "cell_type": "code",
   "execution_count": null,
   "metadata": {},
   "outputs": [],
   "source": [
    "heatmap(framediff(x -> x < -0.4, ball_frame, background_frame, ball_color))"
   ]
  },
  {
   "cell_type": "markdown",
   "metadata": {},
   "source": [
    "That looks like a clean cut. Now all we need to do is to process the whole video. We generate the pixel masks on the fly, to avoid storing the whole video in RAM. Let's define a function for this, in case it needs to be re-run this a different reference color or threshold. Also, let's use multi-threading to process video frames in parallel:"
   ]
  },
  {
   "cell_type": "code",
   "execution_count": null,
   "metadata": {},
   "outputs": [],
   "source": [
    "using Base.Threads\n",
    "\n",
    "function process_video(input::VideoIO.VideoReader, bg_frame::AbstractMatrix, fg_color::Color, threshold::Real)\n",
    "    seek(input, 0.0)\n",
    "\n",
    "    first_frame = read(input)\n",
    "    result = [framediff(x -> x < threshold, first_frame, bg_frame, fg_color)]\n",
    "    \n",
    "    result_lock = ReentrantLock()\n",
    "\n",
    "    input_channel = Channel{Tuple{Int, typeof(first_frame)}}(nthreads(), spawn = true) do ch\n",
    "        i = length(result)\n",
    "        while !eof(input)\n",
    "            i += 1\n",
    "            push!(ch, (i, read(input)))\n",
    "        end\n",
    "    end    \n",
    "    \n",
    "    @sync for _ in 1:nthreads()\n",
    "        @Base.Threads.spawn for (i, frame) in input_channel\n",
    "            r = framediff(x -> x < threshold, frame, bg_frame, fg_color)\n",
    "            lock(result_lock) do\n",
    "                nframes = max(length(result), i)\n",
    "                resize!(result, nframes)\n",
    "                result[i] = r\n",
    "            end\n",
    "        end\n",
    "    end\n",
    "    \n",
    "    @assert all(isassigned.(Ref(result), eachindex(result)))\n",
    "   \n",
    "    result\n",
    "end"
   ]
  },
  {
   "cell_type": "code",
   "execution_count": null,
   "metadata": {},
   "outputs": [],
   "source": [
    "diffvideo = @time process_video(video_input, background_frame, ball_color, -0.4)\n",
    "typeof(diffvideo), length(diffvideo)"
   ]
  },
  {
   "cell_type": "code",
   "execution_count": null,
   "metadata": {},
   "outputs": [],
   "source": [
    "heatmap(diffvideo[50])"
   ]
  },
  {
   "cell_type": "markdown",
   "metadata": {},
   "source": [
    "We interpret each difference frame as a matrix of weights (0 or 1) and estimate the position of the ball as the weighted mean of image coordinates/indices. [StaticArrays.jl](https://github.com/JuliaArrays/StaticArrays.jl) will come in handy here to handle vectors of fixed size that can be stack-allocated:"
   ]
  },
  {
   "cell_type": "code",
   "execution_count": null,
   "metadata": {},
   "outputs": [],
   "source": [
    "using StaticArrays"
   ]
  },
  {
   "cell_type": "code",
   "execution_count": null,
   "metadata": {},
   "outputs": [],
   "source": [
    "function mean_pos(W::AbstractArray{T,N}) where {T,N}\n",
    "    U = float(T)\n",
    "    R = SVector{N,U}\n",
    "    sum_pos::R = zero(R)\n",
    "    sum_w::U = zero(U)\n",
    "    @inbounds for idx in CartesianIndices(W)\n",
    "        w = W[idx]\n",
    "        sum_pos += SVector(Tuple(idx)) * w\n",
    "        sum_w += w\n",
    "    end\n",
    "    sum_pos / sum_w\n",
    "end"
   ]
  },
  {
   "cell_type": "markdown",
   "metadata": {},
   "source": [
    "Let's see if the is fast enough, using [BenchmarkTools.jl](https://github.com/JuliaCI/BenchmarkTools.jl):"
   ]
  },
  {
   "cell_type": "code",
   "execution_count": null,
   "metadata": {},
   "outputs": [],
   "source": [
    "using BenchmarkTools"
   ]
  },
  {
   "cell_type": "code",
   "execution_count": null,
   "metadata": {},
   "outputs": [],
   "source": [
    "@benchmark mean_pos($diffvideo[1])"
   ]
  },
  {
   "cell_type": "markdown",
   "metadata": {},
   "source": [
    "That should do, speed-wise!\n",
    "\n",
    "StaticArrays.jl allows us to define custom field-vector types, we'll need something to represent 2D x/y vectors:"
   ]
  },
  {
   "cell_type": "code",
   "execution_count": null,
   "metadata": {},
   "outputs": [],
   "source": [
    "struct Vec2D{T} <: FieldVector{2,T}\n",
    "    x::T\n",
    "    y::T\n",
    "end"
   ]
  },
  {
   "cell_type": "markdown",
   "metadata": {},
   "source": [
    "Now we can reconstruct the ball positions, as a vector of `Vec2D`:"
   ]
  },
  {
   "cell_type": "code",
   "execution_count": null,
   "metadata": {},
   "outputs": [],
   "source": [
    "Vec2D.(mean_pos.(diffvideo))"
   ]
  },
  {
   "cell_type": "markdown",
   "metadata": {},
   "source": [
    "However, we'll also frequently want to access all `x` and `y` fields as separate vectors.  [StructArrays.jl](https://github.com/JuliaArrays/StructArrays.jl) allows us to store this data as a [Structure of Arrays](https://en.wikipedia.org/wiki/AoS_and_SoA), with both AoS and SoA semantics:"
   ]
  },
  {
   "cell_type": "code",
   "execution_count": null,
   "metadata": {},
   "outputs": [],
   "source": [
    "using StructArrays"
   ]
  },
  {
   "cell_type": "code",
   "execution_count": null,
   "metadata": {},
   "outputs": [],
   "source": [
    "PV = StructArray(Vec2D.(mean_pos.(diffvideo)))\n",
    "typeof(PV.x), typeof(PV.y), typeof(PV[1])"
   ]
  },
  {
   "cell_type": "markdown",
   "metadata": {},
   "source": [
    "Did we reconstruct the ball positions correctly?"
   ]
  },
  {
   "cell_type": "code",
   "execution_count": null,
   "metadata": {},
   "outputs": [],
   "source": [
    "plot(PV.x, PV.y, yflip = true)"
   ]
  },
  {
   "cell_type": "markdown",
   "metadata": {},
   "source": [
    "That looks promising. We also need a time axis, though - let's use a [`TypedTables.Table`](https://github.com/JuliaData/TypedTables.jl) to put it all together:"
   ]
  },
  {
   "cell_type": "code",
   "execution_count": null,
   "metadata": {},
   "outputs": [],
   "source": [
    "using TypedTables"
   ]
  },
  {
   "cell_type": "code",
   "execution_count": null,
   "metadata": {},
   "outputs": [],
   "source": [
    "realtime_framerate = 240\n",
    "raw_data = Table(xy = PV, t = (eachindex(PV) .- firstindex(PV)) / realtime_framerate)"
   ]
  },
  {
   "cell_type": "markdown",
   "metadata": {},
   "source": [
    "Note: A [DataFrames.jl](https://github.com/JuliaData/DataFrames.jl) `DataFrame` would also do, we choose `TypedTables.Table` here for type stability.\n",
    "\n",
    "Let's pull in [Interact.jl](https://github.com/JuliaGizmos/Interact.jl) for interactive data exploration.\n",
    "\n",
    "Note: You will need to run\n",
    "\n",
    "```julia\n",
    "julia> using WebIO; WebIO.install_jupyter_nbextension()\n",
    "```\n",
    "\n",
    "first, to install a Jupyter extension that [WebIO.jl](https://github.com/JuliaGizmos/WebIO.jl) (used by Interact.jl) requires.\n",
    "\n",
    "We'll also use [Printf](https://docs.julialang.org/en/v1/stdlib/Printf/) from the Julia standard library for number formatting."
   ]
  },
  {
   "cell_type": "code",
   "execution_count": null,
   "metadata": {},
   "outputs": [],
   "source": [
    "using Interact, Printf"
   ]
  },
  {
   "cell_type": "code",
   "execution_count": null,
   "metadata": {},
   "outputs": [],
   "source": [
    "@manipulate for i in eachindex(diffvideo)\n",
    "    white = eltype(background_frame)(colorant\"springgreen4\")\n",
    "\n",
    "    plot(\n",
    "        ((w,c) -> w ? white : c).(diffvideo[i], background_frame)',\n",
    "        # ratio = 1\n",
    "    )\n",
    "\n",
    "    plot!(\n",
    "        raw_data.xy.x, raw_data.xy.y,\n",
    "        yflip = true, color = :blue, label = \"trajectory\"\n",
    "    )\n",
    "\n",
    "    scatter!(\n",
    "        [raw_data.xy.x[i]], [raw_data.xy.y[i]],\n",
    "        marker = (:xcross, :red),\n",
    "        label = (@sprintf \"%.2f s\" raw_data.t[i])\n",
    "    )\n",
    "end"
   ]
  },
  {
   "cell_type": "markdown",
   "metadata": {},
   "source": [
    "In the following, we'll only analyse the fist arc of the trajectory:"
   ]
  },
  {
   "cell_type": "code",
   "execution_count": null,
   "metadata": {},
   "outputs": [],
   "source": [
    "sel_idxs = 27:244"
   ]
  },
  {
   "cell_type": "code",
   "execution_count": null,
   "metadata": {},
   "outputs": [],
   "source": [
    "# FileIO.save(\"background.png\", background_frame)"
   ]
  },
  {
   "cell_type": "code",
   "execution_count": null,
   "metadata": {},
   "outputs": [],
   "source": [
    "raw_xy_shift = Vec2D(0, lastindex(axes(background_frame,2)))\n",
    "\n",
    "xy_cal_factor = 1.83 / 1559 * 1.72/1.82\n",
    "\n",
    "xy_cal = SMatrix{2,2}(\n",
    "    xy_cal_factor,             0,\n",
    "                0, -xy_cal_factor\n",
    ")\n",
    "\n",
    "cal_data = Table(\n",
    "    xy = StructArray(Vec2D.(Ref(xy_cal) .* (raw_data.xy .- Ref(raw_xy_shift)))),\n",
    "    t = copy(collect(raw_data.t)),\n",
    ")\n",
    "\n",
    "# Fix missing frame:\n",
    "view(cal_data.t, 170:lastindex(cal_data.t)) .+= 1 / realtime_framerate\n",
    "\n",
    "sel_data = cal_data[sel_idxs]\n",
    "\n",
    "scatter(\n",
    "    sel_data.xy.x, sel_data.xy.y,\n",
    "    marker = (:circle, 2, :black, stroke(0)),\n",
    "    xlabel = \"x [m]\", ylabel = \"y [m]\"\n",
    ")"
   ]
  },
  {
   "cell_type": "code",
   "execution_count": null,
   "metadata": {},
   "outputs": [],
   "source": [
    "using CurveFit"
   ]
  },
  {
   "cell_type": "code",
   "execution_count": null,
   "metadata": {},
   "outputs": [],
   "source": [
    "f = curve_fit(CurveFit.Polynomial, sel_data.t, sel_data.xy.y, 2)"
   ]
  },
  {
   "cell_type": "code",
   "execution_count": null,
   "metadata": {},
   "outputs": [],
   "source": [
    "scatter(\n",
    "    sel_data.xy.x, sel_data.xy.y,\n",
    "    marker = (:circle, 2, :black, stroke(0)),\n",
    "    xlabel = \"x [m]\", ylabel = \"y [m]\"\n",
    ")"
   ]
  },
  {
   "cell_type": "code",
   "execution_count": null,
   "metadata": {},
   "outputs": [],
   "source": [
    "plot(sel_data.t, f.(sel_data.t), label = \"fit\")\n",
    "scatter!(\n",
    "    sel_data.t, sel_data.xy.y,\n",
    "    marker = (:circle, 2, :black, stroke(0)),\n",
    "    xlabel = \"t [s]\", ylabel = \"y [m]\",\n",
    "    label = \"data\"\n",
    ")"
   ]
  },
  {
   "cell_type": "code",
   "execution_count": null,
   "metadata": {},
   "outputs": [],
   "source": [
    "g_curvefit = -2 * f.coeffs[3] * u\"m/s\""
   ]
  },
  {
   "cell_type": "markdown",
   "metadata": {},
   "source": [
    "### Bayesian inference of motion parameters"
   ]
  },
  {
   "cell_type": "markdown",
   "metadata": {},
   "source": [
    "In the following, we'll need [LinearAlgebra](https://docs.julialang.org/en/v1/stdlib/LinearAlgebra/) from the Julia standard library, [OrdinaryDiffEq.jl](https://github.com/JuliaDiffEq/OrdinaryDiffEq.jl) from the [Julia differential equations suite](https://docs.juliadiffeq.org/) and [ValueShapes.jl](https://github.com/oschulz/ValueShapes.jl):"
   ]
  },
  {
   "cell_type": "code",
   "execution_count": null,
   "metadata": {},
   "outputs": [],
   "source": [
    "using LinearAlgebra, StaticArrays, OrdinaryDiffEq\n",
    "using Statistics, StatsBase, Distributions, ValueShapes, BAT"
   ]
  },
  {
   "cell_type": "code",
   "execution_count": null,
   "metadata": {},
   "outputs": [],
   "source": [
    "function motion_eqn!(du::AbstractVector, u::AbstractVector, p::AbstractVector, t::Real)\n",
    "    x, y, dx, dy = u\n",
    "    ρ, A, m, g, C_w = p\n",
    "\n",
    "    xy = SVector(x, y); d_xy = SVector(dx, dy)\n",
    "    \n",
    "    f_drag = - ρ * A * C_w * norm(d_xy) * d_xy / 2\n",
    "    f_grav = m * SVector(zero(g), -g)\n",
    "    dd_xy = (f_drag + f_grav) / m\n",
    "\n",
    "    du .= (d_xy[1], d_xy[2], dd_xy[1], dd_xy[2])\n",
    "    return du\n",
    "end\n",
    "\n",
    "function simulate_motion(v::NamedTuple, timesteps::AbstractVector = 0:0.05:1)\n",
    "    u0 = [v.x, v.y, v.vx, v.vy]\n",
    "    p = [v.ρ, v.A, v.m, v.g, v.C_w]\n",
    "\n",
    "    odeprob = ODEProblem{true}(motion_eqn!, u0, (first(timesteps), last(timesteps)), p)\n",
    "\n",
    "    sol = solve(odeprob, Tsit5(), saveat = timesteps)\n",
    "    (x = sol[1,:], y = sol[2,:], t = timesteps)\n",
    "end\n",
    "\n",
    "\n",
    "likelihood = let data = (x = sel_data.xy.x, y = sel_data.xy.y, t = sel_data.t)\n",
    "    v -> begin\n",
    "        σ_x, σ_y  = v.noise .^ 2\n",
    "        sim_data = simulate_motion(v, data.t)\n",
    "        (log = sum(logpdf.(Normal.(sim_data.x, σ_x), data.x)) + sum(logpdf.(Normal.(sim_data.y, σ_y), data.y)),)\n",
    "    end\n",
    "end\n",
    "\n",
    "\n",
    "prior = NamedTupleDist(\n",
    "    x = Normal(0, 1),\n",
    "    y = Normal(1, 2),\n",
    "    vx = Normal(1, 1),\n",
    "    vy = Normal(2, 2),\n",
    "    ρ = 1.209, # air density at 22°C and 1024 mbar, in kg/m^3\n",
    "    A = pi * (60e-3/2)^2, # ball cross section area\n",
    "    m = 7.1e-3, # mass of ball, in kg\n",
    "    g = Weibull(250, 9.8), # 9.81\n",
    "    C_w = Weibull(20, 0.5), # unitless, 0.47 would be a typical value for a sphere\n",
    "    noise = [sqrt(0.01), sqrt(0.01)]\n",
    "    #noise = [Weibull(1, 0.005), Weibull(1, 0.005)] # noise (stderr)\n",
    ")\n",
    "\n",
    "posterior = PosteriorDensity(likelihood, prior)\n",
    "\n",
    "logvalof(posterior)(rand(prior, ()))"
   ]
  },
  {
   "cell_type": "code",
   "execution_count": null,
   "metadata": {},
   "outputs": [],
   "source": [
    "@benchmark logvalof(posterior)(rand(prior, ()))"
   ]
  },
  {
   "cell_type": "code",
   "execution_count": null,
   "metadata": {},
   "outputs": [],
   "source": [
    "plt = scatter(\n",
    "    sel_data.xy.x, sel_data.xy.y,\n",
    "    marker = (:circle, 2, :black, stroke(0))\n",
    ")\n",
    "for xy in simulate_motion.(rand(prior, 100))\n",
    "    plot!(xy.x, xy.y, color = :lightblue, legend = false)\n",
    "end\n",
    "plt"
   ]
  },
  {
   "cell_type": "code",
   "execution_count": null,
   "metadata": {},
   "outputs": [],
   "source": [
    "v_guess = rand(prior, ())"
   ]
  },
  {
   "cell_type": "code",
   "execution_count": null,
   "metadata": {},
   "outputs": [],
   "source": [
    "unshaped(v_guess)"
   ]
  },
  {
   "cell_type": "code",
   "execution_count": null,
   "metadata": {},
   "outputs": [],
   "source": [
    "using ForwardDiff\n",
    "let vs = varshape(prior)\n",
    "    ForwardDiff.gradient(v -> likelihood(vs(v)[]).log, unshaped(v_guess))\n",
    "end"
   ]
  },
  {
   "cell_type": "markdown",
   "metadata": {},
   "source": [
    "Simple maximum likelihood:"
   ]
  },
  {
   "cell_type": "code",
   "execution_count": null,
   "metadata": {},
   "outputs": [],
   "source": [
    "using Optim\n",
    "let vs = varshape(prior)\n",
    "    r = Optim.optimize(v -> - likelihood(vs(v)[]).log, unshaped(v_guess), Optim.LBFGS(); autodiff = :forward)\n",
    "    varshape(prior)(Optim.minimizer(r))[]\n",
    "end"
   ]
  },
  {
   "cell_type": "markdown",
   "metadata": {},
   "source": [
    "Maximum posterior estimate:"
   ]
  },
  {
   "cell_type": "code",
   "execution_count": null,
   "metadata": {},
   "outputs": [],
   "source": [
    "findmode_ret = bat_findmode(posterior, MaxDensityLBFGS())\n",
    "findmode_ret.info"
   ]
  },
  {
   "cell_type": "code",
   "execution_count": null,
   "metadata": {},
   "outputs": [],
   "source": [
    "mode_est = findmode_ret.result"
   ]
  },
  {
   "cell_type": "code",
   "execution_count": null,
   "metadata": {
    "scrolled": true
   },
   "outputs": [],
   "source": [
    "sim_data_bestfit = simulate_motion(mode_est[], sel_data.t)\n",
    "plot(\n",
    "    sim_data_bestfit.x, sim_data_bestfit.y,\n",
    "    #=marker = (:circle, 2, stroke(0)),=#\n",
    "    label = \"best fit\"\n",
    ")\n",
    "scatter!(\n",
    "    sel_data.xy.x, sel_data.xy.y,\n",
    "    marker = (:circle, 2, :black, stroke(0)),\n",
    "    xlabel = \"x [m]\", ylabel = \"y [m]\",\n",
    "    label = \"data\"\n",
    ")"
   ]
  },
  {
   "cell_type": "code",
   "execution_count": null,
   "metadata": {},
   "outputs": [],
   "source": [
    "samling_output = @time bat_sample(posterior, MCMCSampling(mcalg = HamiltonianMC(), nchains = 4, nsteps = 10^4))\n",
    "samples = samling_output.result;"
   ]
  },
  {
   "cell_type": "code",
   "execution_count": null,
   "metadata": {},
   "outputs": [],
   "source": [
    "plot(samples)"
   ]
  },
  {
   "cell_type": "code",
   "execution_count": null,
   "metadata": {},
   "outputs": [],
   "source": [
    "plot(samples, vsel = [:vx, :vy, :C_w, :g])"
   ]
  },
  {
   "cell_type": "code",
   "execution_count": null,
   "metadata": {},
   "outputs": [],
   "source": [
    "SampledDensity(posterior, samples)"
   ]
  },
  {
   "cell_type": "code",
   "execution_count": null,
   "metadata": {},
   "outputs": [],
   "source": [
    "mode_samples = bat_findmode(samples).result"
   ]
  },
  {
   "cell_type": "code",
   "execution_count": null,
   "metadata": {},
   "outputs": [],
   "source": [
    "mode_refined = bat_findmode(posterior, MaxDensityLBFGS(init = ExplicitInit([mode_samples]))).result"
   ]
  },
  {
   "cell_type": "code",
   "execution_count": null,
   "metadata": {},
   "outputs": [],
   "source": [
    "sim_data_bestfit = simulate_motion(mode_refined[], sel_data.t)\n",
    "plot(\n",
    "    sim_data_bestfit.x, sim_data_bestfit.y,\n",
    "    #=marker = (:circle, 2, stroke(0)),=#\n",
    "    label = \"best fit, refined\"\n",
    ")\n",
    "scatter!(\n",
    "    sel_data.xy.x, sel_data.xy.y,\n",
    "    marker = (:circle, 2, :black, stroke(0)),\n",
    "    xlabel = \"x [m]\", ylabel = \"y [m]\",\n",
    "    label = \"data\"\n",
    ")"
   ]
  }
 ],
 "metadata": {
  "@webio": {
   "lastCommId": "f29e79dee5804e1c8d37a387d3e55e68",
   "lastKernelId": "afb0b376-874b-4e9f-9d57-a0423614f57a"
  },
  "celltoolbar": "Slideshow",
  "hide_input": false,
  "kernelspec": {
   "display_name": "Julia 1.6.0-rc2",
   "language": "julia",
   "name": "julia-1.6"
  },
  "language_info": {
   "file_extension": ".jl",
   "mimetype": "application/julia",
   "name": "julia",
   "version": "1.6.0"
  },
  "livereveal": {
   "start_slideshow_at": "selected",
   "theme": "simple",
   "transition": "none"
  },
  "nbpresent": {
   "slides": {},
   "themes": {}
  },
  "toc": {
   "base_numbering": 1,
   "nav_menu": {},
   "number_sections": false,
   "sideBar": true,
   "skip_h1_title": false,
   "title_cell": "Table of Contents",
   "title_sidebar": "Contents",
   "toc_cell": false,
   "toc_position": {},
   "toc_section_display": true,
   "toc_window_display": false
  }
 },
 "nbformat": 4,
 "nbformat_minor": 2
}
